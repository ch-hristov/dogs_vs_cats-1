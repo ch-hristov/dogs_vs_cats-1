{
 "cells": [
  {
   "cell_type": "code",
   "execution_count": 1,
   "metadata": {
    "colab": {
     "base_uri": "https://localhost:8080/",
     "height": 34
    },
    "colab_type": "code",
    "id": "4Prhu8UDc_Qz",
    "outputId": "226343b4-0640-4164-cd34-02ed67fa8d80"
   },
   "outputs": [
    {
     "name": "stderr",
     "output_type": "stream",
     "text": [
      "Using TensorFlow backend.\n"
     ]
    }
   ],
   "source": [
    "import keras\n",
    "import os\n",
    "from keras import layers\n",
    "from keras import models\n",
    "from keras import optimizers\n",
    "from keras.preprocessing.image import ImageDataGenerator\n",
    "from keras.preprocessing import image\n",
    "import matplotlib.pyplot as plt\n",
    "%matplotlib inline"
   ]
  },
  {
   "cell_type": "markdown",
   "metadata": {
    "colab_type": "text",
    "id": "_XTmWrw1dALE"
   },
   "source": [
    "# Download Dataset"
   ]
  },
  {
   "cell_type": "code",
   "execution_count": 2,
   "metadata": {
    "colab": {
     "base_uri": "https://localhost:8080/",
     "height": 202
    },
    "colab_type": "code",
    "id": "Q-b_CGvWfu6t",
    "outputId": "e0acac8c-52f4-47c0-844e-d6aed2ac6c84"
   },
   "outputs": [
    {
     "name": "stdout",
     "output_type": "stream",
     "text": [
      "--2019-06-06 15:45:39--  http://files.fast.ai/data/dogscats.zip\n",
      "Resolving files.fast.ai (files.fast.ai)... 67.205.15.147\n",
      "Connecting to files.fast.ai (files.fast.ai)|67.205.15.147|:80... connected.\n",
      "HTTP request sent, awaiting response... 200 OK\n",
      "Length: 857214334 (818M) [application/zip]\n",
      "Saving to: ‘dogscats.zip’\n",
      "\n",
      "dogscats.zip        100%[===================>] 817.50M  16.4MB/s    in 52s     \n",
      "\n",
      "2019-06-06 15:46:32 (15.7 MB/s) - ‘dogscats.zip’ saved [857214334/857214334]\n",
      "\n"
     ]
    }
   ],
   "source": [
    "!wget http://files.fast.ai/data/dogscats.zip"
   ]
  },
  {
   "cell_type": "markdown",
   "metadata": {
    "colab_type": "text",
    "id": "rYV1NbwFe-BF"
   },
   "source": [
    "# Prepare dataset"
   ]
  },
  {
   "cell_type": "code",
   "execution_count": 0,
   "metadata": {
    "colab": {},
    "colab_type": "code",
    "id": "aGjDY5-EgrMW"
   },
   "outputs": [],
   "source": [
    "!unzip dogscats.zip"
   ]
  },
  {
   "cell_type": "code",
   "execution_count": 0,
   "metadata": {
    "colab": {},
    "colab_type": "code",
    "id": "yjEhuhoSe-BG"
   },
   "outputs": [],
   "source": [
    "dataset_path = \"./dogscats\"\n",
    "training_set = dataset_path + \"/train\"\n",
    "validation_set =dataset_path + \"/valid\""
   ]
  },
  {
   "cell_type": "code",
   "execution_count": 5,
   "metadata": {
    "colab": {
     "base_uri": "https://localhost:8080/",
     "height": 34
    },
    "colab_type": "code",
    "id": "uULUDIxae-BJ",
    "outputId": "cc2d3fa4-7f1d-4927-9517-e5e0de739d57",
    "scrolled": true
   },
   "outputs": [
    {
     "name": "stdout",
     "output_type": "stream",
     "text": [
      "Number of cat images in the training set: 11500\n"
     ]
    }
   ],
   "source": [
    "print(\"Number of cat images in the training set:\", len(os.listdir(training_set + \"/cats\")))"
   ]
  },
  {
   "cell_type": "code",
   "execution_count": 6,
   "metadata": {
    "colab": {
     "base_uri": "https://localhost:8080/",
     "height": 34
    },
    "colab_type": "code",
    "id": "I3JOVGZve-BM",
    "outputId": "63152828-bb5c-4e32-8529-6628a0e5c032"
   },
   "outputs": [
    {
     "name": "stdout",
     "output_type": "stream",
     "text": [
      "Number of dog images in the training set: 11500\n"
     ]
    }
   ],
   "source": [
    "print(\"Number of dog images in the training set:\", len(os.listdir(training_set + \"/dogs\")))"
   ]
  },
  {
   "cell_type": "code",
   "execution_count": 7,
   "metadata": {
    "colab": {
     "base_uri": "https://localhost:8080/",
     "height": 34
    },
    "colab_type": "code",
    "id": "4cpoflmse-BQ",
    "outputId": "cb09f623-6b4a-47d9-8bef-b26cb1e74872"
   },
   "outputs": [
    {
     "name": "stdout",
     "output_type": "stream",
     "text": [
      "Number of cat images in the validation set: 1000\n"
     ]
    }
   ],
   "source": [
    "print(\"Number of cat images in the validation set:\", len(os.listdir(validation_set + \"/cats\")))"
   ]
  },
  {
   "cell_type": "code",
   "execution_count": 8,
   "metadata": {
    "colab": {
     "base_uri": "https://localhost:8080/",
     "height": 34
    },
    "colab_type": "code",
    "id": "WQER-0k7e-BT",
    "outputId": "fe6f343b-105f-4984-f6c3-c920e7b92d82"
   },
   "outputs": [
    {
     "name": "stdout",
     "output_type": "stream",
     "text": [
      "Number of dog images in the validation set: 1000\n"
     ]
    }
   ],
   "source": [
    "print(\"Number of dog images in the validation set:\", len(os.listdir(validation_set + \"/dogs\")))"
   ]
  },
  {
   "cell_type": "markdown",
   "metadata": {
    "colab_type": "text",
    "id": "DU7ouXG1e-BX"
   },
   "source": [
    "# Model architecture"
   ]
  },
  {
   "cell_type": "code",
   "execution_count": 9,
   "metadata": {
    "colab": {
     "base_uri": "https://localhost:8080/",
     "height": 138
    },
    "colab_type": "code",
    "id": "2XV0EAZPe-BY",
    "outputId": "9823db3f-c6fa-4809-8df5-1e6b2b96be15"
   },
   "outputs": [
    {
     "name": "stdout",
     "output_type": "stream",
     "text": [
      "WARNING:tensorflow:From /usr/local/lib/python3.6/dist-packages/tensorflow/python/framework/op_def_library.py:263: colocate_with (from tensorflow.python.framework.ops) is deprecated and will be removed in a future version.\n",
      "Instructions for updating:\n",
      "Colocations handled automatically by placer.\n",
      "WARNING:tensorflow:From /usr/local/lib/python3.6/dist-packages/keras/backend/tensorflow_backend.py:3445: calling dropout (from tensorflow.python.ops.nn_ops) with keep_prob is deprecated and will be removed in a future version.\n",
      "Instructions for updating:\n",
      "Please use `rate` instead of `keep_prob`. Rate should be set to `rate = 1 - keep_prob`.\n"
     ]
    }
   ],
   "source": [
    "model = models.Sequential()\n",
    "model.add(layers.Conv2D(32, (3, 3), activation='relu',\n",
    "                        input_shape=(150, 150, 3)))\n",
    "model.add(layers.BatchNormalization())\n",
    "model.add(layers.MaxPooling2D((2, 2)))\n",
    "model.add(layers.Conv2D(64, (3, 3), activation='relu'))\n",
    "model.add(layers.BatchNormalization())\n",
    "model.add(layers.MaxPooling2D((2, 2)))\n",
    "model.add(layers.Conv2D(128, (3, 3), activation='relu'))\n",
    "model.add(layers.BatchNormalization())\n",
    "model.add(layers.MaxPooling2D((2, 2)))\n",
    "model.add(layers.Conv2D(256, (3, 3), activation='relu'))\n",
    "model.add(layers.BatchNormalization())\n",
    "model.add(layers.MaxPooling2D((2, 2)))\n",
    "model.add(layers.Flatten())\n",
    "model.add(layers.Dropout(0.5))\n",
    "model.add(layers.Dense(256, activation='relu'))\n",
    "model.add(layers.Dropout(0.5))\n",
    "model.add(layers.Dense(128, activation='relu'))\n",
    "model.add(layers.Dense(1, activation='sigmoid'))"
   ]
  },
  {
   "cell_type": "code",
   "execution_count": 10,
   "metadata": {
    "colab": {
     "base_uri": "https://localhost:8080/",
     "height": 739
    },
    "colab_type": "code",
    "id": "Z_NFGJkKe-Ba",
    "outputId": "35192fb2-7b2c-4e2b-fbef-f045cc346e09"
   },
   "outputs": [
    {
     "name": "stdout",
     "output_type": "stream",
     "text": [
      "_________________________________________________________________\n",
      "Layer (type)                 Output Shape              Param #   \n",
      "=================================================================\n",
      "conv2d_1 (Conv2D)            (None, 148, 148, 32)      896       \n",
      "_________________________________________________________________\n",
      "batch_normalization_1 (Batch (None, 148, 148, 32)      128       \n",
      "_________________________________________________________________\n",
      "max_pooling2d_1 (MaxPooling2 (None, 74, 74, 32)        0         \n",
      "_________________________________________________________________\n",
      "conv2d_2 (Conv2D)            (None, 72, 72, 64)        18496     \n",
      "_________________________________________________________________\n",
      "batch_normalization_2 (Batch (None, 72, 72, 64)        256       \n",
      "_________________________________________________________________\n",
      "max_pooling2d_2 (MaxPooling2 (None, 36, 36, 64)        0         \n",
      "_________________________________________________________________\n",
      "conv2d_3 (Conv2D)            (None, 34, 34, 128)       73856     \n",
      "_________________________________________________________________\n",
      "batch_normalization_3 (Batch (None, 34, 34, 128)       512       \n",
      "_________________________________________________________________\n",
      "max_pooling2d_3 (MaxPooling2 (None, 17, 17, 128)       0         \n",
      "_________________________________________________________________\n",
      "conv2d_4 (Conv2D)            (None, 15, 15, 256)       295168    \n",
      "_________________________________________________________________\n",
      "batch_normalization_4 (Batch (None, 15, 15, 256)       1024      \n",
      "_________________________________________________________________\n",
      "max_pooling2d_4 (MaxPooling2 (None, 7, 7, 256)         0         \n",
      "_________________________________________________________________\n",
      "flatten_1 (Flatten)          (None, 12544)             0         \n",
      "_________________________________________________________________\n",
      "dropout_1 (Dropout)          (None, 12544)             0         \n",
      "_________________________________________________________________\n",
      "dense_1 (Dense)              (None, 256)               3211520   \n",
      "_________________________________________________________________\n",
      "dropout_2 (Dropout)          (None, 256)               0         \n",
      "_________________________________________________________________\n",
      "dense_2 (Dense)              (None, 128)               32896     \n",
      "_________________________________________________________________\n",
      "dense_3 (Dense)              (None, 1)                 129       \n",
      "=================================================================\n",
      "Total params: 3,634,881\n",
      "Trainable params: 3,633,921\n",
      "Non-trainable params: 960\n",
      "_________________________________________________________________\n"
     ]
    }
   ],
   "source": [
    "model.summary()"
   ]
  },
  {
   "cell_type": "markdown",
   "metadata": {
    "colab_type": "text",
    "id": "ftUV-muVe-Be"
   },
   "source": [
    "# Cost function, optimizer, ..."
   ]
  },
  {
   "cell_type": "code",
   "execution_count": 0,
   "metadata": {
    "colab": {},
    "colab_type": "code",
    "id": "kJw8lWGle-Be"
   },
   "outputs": [],
   "source": [
    "model.compile(loss='binary_crossentropy',\n",
    "              optimizer=optimizers.RMSprop(lr=1e-4),\n",
    "              metrics=['acc'])"
   ]
  },
  {
   "cell_type": "markdown",
   "metadata": {
    "colab_type": "text",
    "id": "80JXZxtMe-Bh"
   },
   "source": [
    "# Data generator"
   ]
  },
  {
   "cell_type": "code",
   "execution_count": 12,
   "metadata": {
    "colab": {
     "base_uri": "https://localhost:8080/",
     "height": 50
    },
    "colab_type": "code",
    "id": "BsjTLnwbe-Bi",
    "outputId": "0b24c781-ed65-4a0e-c3c5-3e372657ea32"
   },
   "outputs": [
    {
     "name": "stdout",
     "output_type": "stream",
     "text": [
      "Found 23000 images belonging to 2 classes.\n",
      "Found 2000 images belonging to 2 classes.\n"
     ]
    }
   ],
   "source": [
    "train_datagen = ImageDataGenerator(\n",
    "    rescale=1./255,\n",
    "    rotation_range=40,\n",
    "    width_shift_range=0.2,\n",
    "    height_shift_range=0.2,\n",
    "    shear_range=0.2,\n",
    "    zoom_range=0.2,\n",
    "    horizontal_flip=True,)\n",
    "\n",
    "# validation data should not be augmented!\n",
    "\n",
    "val_datagen = ImageDataGenerator(rescale=1./255)\n",
    "\n",
    "train_generator = train_datagen.flow_from_directory(\n",
    "        training_set,\n",
    "        target_size=(150, 150),\n",
    "        batch_size=64,\n",
    "        class_mode='binary')\n",
    "\n",
    "validation_generator = val_datagen.flow_from_directory(\n",
    "        validation_set,\n",
    "        target_size=(150, 150),\n",
    "        batch_size=64,\n",
    "        class_mode='binary')"
   ]
  },
  {
   "cell_type": "markdown",
   "metadata": {
    "colab_type": "text",
    "id": "lvVnXEkVe-Bl"
   },
   "source": [
    "# Training"
   ]
  },
  {
   "cell_type": "code",
   "execution_count": 13,
   "metadata": {
    "colab": {
     "base_uri": "https://localhost:8080/",
     "height": 1767
    },
    "colab_type": "code",
    "id": "XQN5ghUve-Bn",
    "outputId": "fa5d2301-59f2-42d2-e371-7d4088e83b10"
   },
   "outputs": [
    {
     "name": "stdout",
     "output_type": "stream",
     "text": [
      "WARNING:tensorflow:From /usr/local/lib/python3.6/dist-packages/tensorflow/python/ops/math_ops.py:3066: to_int32 (from tensorflow.python.ops.math_ops) is deprecated and will be removed in a future version.\n",
      "Instructions for updating:\n",
      "Use tf.cast instead.\n",
      "Epoch 1/50\n",
      "312/312 [==============================] - 203s 651ms/step - loss: 0.7455 - acc: 0.5969 - val_loss: 0.5902 - val_acc: 0.6850\n",
      "Epoch 2/50\n",
      "312/312 [==============================] - 195s 624ms/step - loss: 0.6449 - acc: 0.6505 - val_loss: 0.5600 - val_acc: 0.7204\n",
      "Epoch 3/50\n",
      "312/312 [==============================] - 193s 619ms/step - loss: 0.6121 - acc: 0.6795 - val_loss: 0.5111 - val_acc: 0.7420\n",
      "Epoch 4/50\n",
      "312/312 [==============================] - 194s 622ms/step - loss: 0.5899 - acc: 0.6983 - val_loss: 0.5145 - val_acc: 0.7404\n",
      "Epoch 5/50\n",
      "312/312 [==============================] - 194s 621ms/step - loss: 0.5673 - acc: 0.7154 - val_loss: 0.4657 - val_acc: 0.7801\n",
      "Epoch 6/50\n",
      "312/312 [==============================] - 194s 621ms/step - loss: 0.5580 - acc: 0.7200 - val_loss: 0.5302 - val_acc: 0.7447\n",
      "Epoch 7/50\n",
      "312/312 [==============================] - 194s 621ms/step - loss: 0.5445 - acc: 0.7326 - val_loss: 0.4567 - val_acc: 0.7805\n",
      "Epoch 8/50\n",
      "312/312 [==============================] - 195s 624ms/step - loss: 0.5359 - acc: 0.7356 - val_loss: 0.4694 - val_acc: 0.7725\n",
      "Epoch 9/50\n",
      "312/312 [==============================] - 194s 621ms/step - loss: 0.5238 - acc: 0.7455 - val_loss: 0.4226 - val_acc: 0.8009\n",
      "Epoch 10/50\n",
      "312/312 [==============================] - 194s 622ms/step - loss: 0.5122 - acc: 0.7542 - val_loss: 0.4607 - val_acc: 0.7950\n",
      "Epoch 11/50\n",
      "312/312 [==============================] - 195s 624ms/step - loss: 0.4923 - acc: 0.7671 - val_loss: 0.4133 - val_acc: 0.8111\n",
      "Epoch 12/50\n",
      "312/312 [==============================] - 195s 625ms/step - loss: 0.4929 - acc: 0.7719 - val_loss: 0.4116 - val_acc: 0.8146\n",
      "Epoch 13/50\n",
      "312/312 [==============================] - 195s 625ms/step - loss: 0.4753 - acc: 0.7752 - val_loss: 0.4060 - val_acc: 0.8152\n",
      "Epoch 14/50\n",
      "312/312 [==============================] - 195s 624ms/step - loss: 0.4704 - acc: 0.7817 - val_loss: 0.4047 - val_acc: 0.8067\n",
      "Epoch 15/50\n",
      "312/312 [==============================] - 194s 623ms/step - loss: 0.4594 - acc: 0.7904 - val_loss: 0.3658 - val_acc: 0.8409\n",
      "Epoch 16/50\n",
      "312/312 [==============================] - 195s 624ms/step - loss: 0.4538 - acc: 0.7943 - val_loss: 0.3748 - val_acc: 0.8315\n",
      "Epoch 17/50\n",
      "312/312 [==============================] - 195s 624ms/step - loss: 0.4410 - acc: 0.8010 - val_loss: 0.4074 - val_acc: 0.8168\n",
      "Epoch 18/50\n",
      "312/312 [==============================] - 194s 622ms/step - loss: 0.4339 - acc: 0.8045 - val_loss: 0.3725 - val_acc: 0.8286\n",
      "Epoch 19/50\n",
      "312/312 [==============================] - 194s 621ms/step - loss: 0.4239 - acc: 0.8065 - val_loss: 0.3981 - val_acc: 0.8282\n",
      "Epoch 20/50\n",
      "312/312 [==============================] - 195s 625ms/step - loss: 0.4248 - acc: 0.8080 - val_loss: 0.3404 - val_acc: 0.8476\n",
      "Epoch 21/50\n",
      "312/312 [==============================] - 195s 626ms/step - loss: 0.4065 - acc: 0.8171 - val_loss: 0.3843 - val_acc: 0.8232\n",
      "Epoch 22/50\n",
      "312/312 [==============================] - 195s 624ms/step - loss: 0.3974 - acc: 0.8232 - val_loss: 0.3695 - val_acc: 0.8374\n",
      "Epoch 23/50\n",
      "312/312 [==============================] - 194s 623ms/step - loss: 0.3956 - acc: 0.8251 - val_loss: 0.3565 - val_acc: 0.8521\n",
      "Epoch 24/50\n",
      "312/312 [==============================] - 194s 621ms/step - loss: 0.3830 - acc: 0.8323 - val_loss: 0.3202 - val_acc: 0.8672\n",
      "Epoch 25/50\n",
      "312/312 [==============================] - 193s 620ms/step - loss: 0.3792 - acc: 0.8348 - val_loss: 0.3171 - val_acc: 0.8748\n",
      "Epoch 26/50\n",
      "312/312 [==============================] - 194s 622ms/step - loss: 0.3723 - acc: 0.8401 - val_loss: 0.3655 - val_acc: 0.8377\n",
      "Epoch 27/50\n",
      "312/312 [==============================] - 194s 621ms/step - loss: 0.3583 - acc: 0.8404 - val_loss: 0.3101 - val_acc: 0.8666\n",
      "Epoch 28/50\n",
      "312/312 [==============================] - 193s 620ms/step - loss: 0.3616 - acc: 0.8443 - val_loss: 0.3467 - val_acc: 0.8488\n",
      "Epoch 29/50\n",
      "312/312 [==============================] - 193s 619ms/step - loss: 0.3501 - acc: 0.8514 - val_loss: 0.3211 - val_acc: 0.8648\n",
      "Epoch 30/50\n",
      "312/312 [==============================] - 193s 620ms/step - loss: 0.3534 - acc: 0.8501 - val_loss: 0.3794 - val_acc: 0.8224\n",
      "Epoch 31/50\n",
      "312/312 [==============================] - 194s 621ms/step - loss: 0.3371 - acc: 0.8556 - val_loss: 0.3421 - val_acc: 0.8572\n",
      "Epoch 32/50\n",
      "312/312 [==============================] - 195s 626ms/step - loss: 0.3279 - acc: 0.8585 - val_loss: 0.4633 - val_acc: 0.8106\n",
      "Epoch 33/50\n",
      "312/312 [==============================] - 195s 624ms/step - loss: 0.3314 - acc: 0.8587 - val_loss: 0.3682 - val_acc: 0.8438\n",
      "Epoch 34/50\n",
      "312/312 [==============================] - 195s 624ms/step - loss: 0.3226 - acc: 0.8648 - val_loss: 0.2886 - val_acc: 0.8860\n",
      "Epoch 35/50\n",
      "312/312 [==============================] - 194s 623ms/step - loss: 0.3198 - acc: 0.8647 - val_loss: 0.2819 - val_acc: 0.8868\n",
      "Epoch 36/50\n",
      "312/312 [==============================] - 195s 626ms/step - loss: 0.3183 - acc: 0.8673 - val_loss: 0.2649 - val_acc: 0.8881\n",
      "Epoch 37/50\n",
      "312/312 [==============================] - 195s 625ms/step - loss: 0.3094 - acc: 0.8699 - val_loss: 0.2857 - val_acc: 0.8833\n",
      "Epoch 38/50\n",
      "312/312 [==============================] - 196s 628ms/step - loss: 0.3038 - acc: 0.8710 - val_loss: 0.3061 - val_acc: 0.8817\n",
      "Epoch 39/50\n",
      "312/312 [==============================] - 196s 627ms/step - loss: 0.3068 - acc: 0.8722 - val_loss: 0.3539 - val_acc: 0.8391\n",
      "Epoch 40/50\n",
      "312/312 [==============================] - 195s 625ms/step - loss: 0.2923 - acc: 0.8749 - val_loss: 0.2474 - val_acc: 0.9026\n",
      "Epoch 41/50\n",
      "312/312 [==============================] - 195s 626ms/step - loss: 0.3016 - acc: 0.8708 - val_loss: 0.2624 - val_acc: 0.8952\n",
      "Epoch 42/50\n",
      "312/312 [==============================] - 194s 623ms/step - loss: 0.2860 - acc: 0.8784 - val_loss: 0.4539 - val_acc: 0.8160\n",
      "Epoch 43/50\n",
      "312/312 [==============================] - 195s 625ms/step - loss: 0.2848 - acc: 0.8802 - val_loss: 0.2603 - val_acc: 0.8883\n",
      "Epoch 44/50\n",
      "312/312 [==============================] - 195s 624ms/step - loss: 0.2790 - acc: 0.8844 - val_loss: 0.2688 - val_acc: 0.8923\n",
      "Epoch 45/50\n",
      "312/312 [==============================] - 195s 625ms/step - loss: 0.2738 - acc: 0.8846 - val_loss: 0.2299 - val_acc: 0.8995\n",
      "Epoch 46/50\n",
      "312/312 [==============================] - 195s 625ms/step - loss: 0.2748 - acc: 0.8852 - val_loss: 0.2482 - val_acc: 0.9068\n",
      "Epoch 47/50\n",
      "312/312 [==============================] - 195s 625ms/step - loss: 0.2737 - acc: 0.8865 - val_loss: 0.3443 - val_acc: 0.8527\n",
      "Epoch 48/50\n",
      "312/312 [==============================] - 196s 628ms/step - loss: 0.2645 - acc: 0.8890 - val_loss: 0.2634 - val_acc: 0.8878\n",
      "Epoch 49/50\n",
      "312/312 [==============================] - 195s 625ms/step - loss: 0.2732 - acc: 0.8868 - val_loss: 0.2750 - val_acc: 0.8911\n",
      "Epoch 50/50\n",
      "312/312 [==============================] - 195s 624ms/step - loss: 0.2664 - acc: 0.8906 - val_loss: 0.2633 - val_acc: 0.8805\n"
     ]
    }
   ],
   "source": [
    "history = model.fit_generator(\n",
    "      train_generator,\n",
    "      steps_per_epoch=312,\n",
    "      epochs=50,\n",
    "      validation_data=validation_generator,\n",
    "      validation_steps=78)"
   ]
  },
  {
   "cell_type": "markdown",
   "metadata": {
    "colab_type": "text",
    "id": "ceTbzPrGe-Bq"
   },
   "source": [
    "# Plot accuracy and loss"
   ]
  },
  {
   "cell_type": "code",
   "execution_count": 14,
   "metadata": {
    "colab": {
     "base_uri": "https://localhost:8080/",
     "height": 545
    },
    "colab_type": "code",
    "id": "PjOrJuefe-Br",
    "outputId": "ff6421dd-214e-4df7-e79d-703ffa07a231"
   },
   "outputs": [
    {
     "data": {
      "image/png": "[encoded data removed]",
      "text/plain": [
       "<Figure size 432x288 with 1 Axes>"
      ]
     },
     "metadata": {
      "tags": []
     },
     "output_type": "display_data"
    },
    {
     "data": {
      "image/png": "[encoded data removed]",
      "text/plain": [
       "<Figure size 432x288 with 1 Axes>"
      ]
     },
     "metadata": {
      "tags": []
     },
     "output_type": "display_data"
    }
   ],
   "source": [
    "acc = history.history['acc']\n",
    "val_acc = history.history['val_acc']\n",
    "loss = history.history['loss']\n",
    "val_loss = history.history['val_loss']\n",
    "\n",
    "epochs = range(len(acc))\n",
    "\n",
    "plt.plot(epochs, acc, 'r', label='Training Accuracy')\n",
    "plt.plot(epochs, val_acc, 'b', label='Validation Accuracy')\n",
    "plt.title('Training and Validation Accuracy')\n",
    "plt.legend()\n",
    "\n",
    "plt.figure()\n",
    "\n",
    "plt.plot(epochs, loss, 'r', label='Training Loss')\n",
    "plt.plot(epochs, val_loss, 'b', label='Validation Loss')\n",
    "plt.title('Training and Validation Loss')\n",
    "plt.legend()\n",
    "\n",
    "plt.show()"
   ]
  },
  {
   "cell_type": "markdown",
   "metadata": {
    "colab_type": "text",
    "id": "snfDcEhve-Bw"
   },
   "source": [
    "# Save the model"
   ]
  },
  {
   "cell_type": "code",
   "execution_count": 0,
   "metadata": {
    "colab": {},
    "colab_type": "code",
    "id": "VfGFobXZe-Bw"
   },
   "outputs": [],
   "source": [
    "model.save('cnn_from_scratch.h5')"
   ]
  },
  {
   "cell_type": "markdown",
   "metadata": {
    "colab_type": "text",
    "id": "WGsrr6M9h4Py"
   },
   "source": [
    "# Evaluate the model"
   ]
  },
  {
   "cell_type": "code",
   "execution_count": 16,
   "metadata": {
    "colab": {
     "base_uri": "https://localhost:8080/",
     "height": 34
    },
    "colab_type": "code",
    "id": "aolmAcGsh4Wo",
    "outputId": "b70fa82b-457d-4102-9ce1-24489a361ac1"
   },
   "outputs": [
    {
     "name": "stdout",
     "output_type": "stream",
     "text": [
      "Accuracy on Validation Set: 0.8863636363636364\n"
     ]
    }
   ],
   "source": [
    "test_loss, test_acc = model.evaluate_generator(validation_generator, steps=20)\n",
    "print('Accuracy on Validation Set:', test_acc)"
   ]
  },
  {
   "cell_type": "markdown",
   "metadata": {
    "colab_type": "text",
    "id": "IB-08OXWe-B0"
   },
   "source": [
    "# Train more with lower learning rate"
   ]
  },
  {
   "cell_type": "code",
   "execution_count": 17,
   "metadata": {
    "colab": {
     "base_uri": "https://localhost:8080/",
     "height": 353
    },
    "colab_type": "code",
    "id": "TPZvkPYAe-B1",
    "outputId": "a923f3eb-3dde-4344-9eff-47af390cf90c"
   },
   "outputs": [
    {
     "name": "stdout",
     "output_type": "stream",
     "text": [
      "Epoch 1/10\n",
      "312/312 [==============================] - 201s 645ms/step - loss: 0.2588 - acc: 0.8915 - val_loss: 0.2275 - val_acc: 0.9134\n",
      "Epoch 2/10\n",
      "312/312 [==============================] - 194s 622ms/step - loss: 0.2490 - acc: 0.8950 - val_loss: 0.2222 - val_acc: 0.9183\n",
      "Epoch 3/10\n",
      "312/312 [==============================] - 194s 623ms/step - loss: 0.2447 - acc: 0.8972 - val_loss: 0.2223 - val_acc: 0.9189\n",
      "Epoch 4/10\n",
      "312/312 [==============================] - 194s 621ms/step - loss: 0.2422 - acc: 0.9002 - val_loss: 0.2188 - val_acc: 0.9214\n",
      "Epoch 5/10\n",
      "312/312 [==============================] - 194s 623ms/step - loss: 0.2460 - acc: 0.8983 - val_loss: 0.2205 - val_acc: 0.9214\n",
      "Epoch 6/10\n",
      "312/312 [==============================] - 194s 623ms/step - loss: 0.2417 - acc: 0.8985 - val_loss: 0.2183 - val_acc: 0.9229\n",
      "Epoch 7/10\n",
      "312/312 [==============================] - 195s 625ms/step - loss: 0.2360 - acc: 0.9002 - val_loss: 0.2193 - val_acc: 0.9191\n",
      "Epoch 8/10\n",
      "312/312 [==============================] - 195s 626ms/step - loss: 0.2437 - acc: 0.8977 - val_loss: 0.2168 - val_acc: 0.9206\n",
      "Epoch 9/10\n",
      "312/312 [==============================] - 195s 626ms/step - loss: 0.2375 - acc: 0.9025 - val_loss: 0.2201 - val_acc: 0.9181\n",
      "Epoch 10/10\n",
      "312/312 [==============================] - 196s 627ms/step - loss: 0.2376 - acc: 0.9014 - val_loss: 0.2102 - val_acc: 0.9254\n"
     ]
    }
   ],
   "source": [
    "model.compile(loss='binary_crossentropy',\n",
    "              optimizer=optimizers.RMSprop(lr=1e-6),\n",
    "              metrics=['acc'])\n",
    "\n",
    "history = model.fit_generator(\n",
    "      train_generator,\n",
    "      steps_per_epoch=312,\n",
    "      epochs=10,\n",
    "      validation_data=validation_generator,\n",
    "      validation_steps=78)"
   ]
  },
  {
   "cell_type": "markdown",
   "metadata": {
    "colab_type": "text",
    "id": "7geG0OTte-B8"
   },
   "source": [
    "# Save the model"
   ]
  },
  {
   "cell_type": "code",
   "execution_count": 0,
   "metadata": {
    "colab": {},
    "colab_type": "code",
    "id": "MhnQZ3wRe-B9"
   },
   "outputs": [],
   "source": [
    "model.save('cnn_from_scratch_lower_lr.h5')"
   ]
  },
  {
   "cell_type": "markdown",
   "metadata": {
    "colab_type": "text",
    "id": "7hd5r7SZe-CB"
   },
   "source": [
    "# Evaluate the model"
   ]
  },
  {
   "cell_type": "code",
   "execution_count": 19,
   "metadata": {
    "colab": {
     "base_uri": "https://localhost:8080/",
     "height": 34
    },
    "colab_type": "code",
    "id": "GhKZf-bDe-CB",
    "outputId": "1339471a-f5a8-4b36-de92-14b7a1dddf61"
   },
   "outputs": [
    {
     "name": "stdout",
     "output_type": "stream",
     "text": [
      "Accuracy on Validation Set: 0.922077922077922\n"
     ]
    }
   ],
   "source": [
    "test_loss, test_acc = model.evaluate_generator(validation_generator, steps=20)\n",
    "print('Accuracy on Validation Set:', test_acc)"
   ]
  },
  {
   "cell_type": "code",
   "execution_count": 0,
   "metadata": {
    "colab": {},
    "colab_type": "code",
    "id": "-6WYnycGdHPB"
   },
   "outputs": [],
   "source": []
  }
 ],
 "metadata": {
  "accelerator": "GPU",
  "colab": {
   "name": "Dogs_vs_Cats_CNN_from_scratch.ipynb",
   "provenance": [],
   "toc_visible": true,
   "version": "0.3.2"
  },
  "kernelspec": {
   "display_name": "Python 3",
   "language": "python",
   "name": "python3"
  },
  "language_info": {
   "codemirror_mode": {
    "name": "ipython",
    "version": 3
   },
   "file_extension": ".py",
   "mimetype": "text/x-python",
   "name": "python",
   "nbconvert_exporter": "python",
   "pygments_lexer": "ipython3",
   "version": "3.5.6"
  }
 },
 "nbformat": 4,
 "nbformat_minor": 1
}
