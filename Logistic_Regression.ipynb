{
  "nbformat": 4,
  "nbformat_minor": 0,
  "metadata": {
    "colab": {
      "name": "Logistic_Regression.ipynb",
      "version": "0.3.2",
      "provenance": [],
      "collapsed_sections": [],
      "toc_visible": true
    },
    "language_info": {
      "codemirror_mode": {
        "name": "ipython",
        "version": 3
      },
      "file_extension": ".py",
      "mimetype": "text/x-python",
      "name": "python",
      "nbconvert_exporter": "python",
      "pygments_lexer": "ipython3",
      "version": "3.5.6"
    },
    "kernelspec": {
      "name": "python3",
      "display_name": "Python 3"
    },
    "accelerator": "GPU"
  },
  "cells": [
    {
      "cell_type": "code",
      "metadata": {
        "colab_type": "code",
        "id": "4Prhu8UDc_Qz",
        "outputId": "c59f999e-8846-4163-8562-37ec77cf7a4d",
        "colab": {
          "base_uri": "https://localhost:8080/",
          "height": 34
        }
      },
      "source": [
        "import keras\n",
        "import os\n",
        "from keras import layers\n",
        "from keras import models\n",
        "from keras import optimizers\n",
        "import matplotlib.pyplot as plt\n",
        "from sklearn.utils import shuffle\n",
        "import cv2\n",
        "import numpy as np\n",
        "%matplotlib inline"
      ],
      "execution_count": 1,
      "outputs": [
        {
          "output_type": "stream",
          "text": [
            "Using TensorFlow backend.\n"
          ],
          "name": "stderr"
        }
      ]
    },
    {
      "cell_type": "markdown",
      "metadata": {
        "colab_type": "text",
        "id": "_XTmWrw1dALE"
      },
      "source": [
        "# Download Dataset"
      ]
    },
    {
      "cell_type": "code",
      "metadata": {
        "colab_type": "code",
        "id": "Q-b_CGvWfu6t",
        "outputId": "a5651507-5157-4a1c-df6c-b68eed42e129",
        "colab": {
          "base_uri": "https://localhost:8080/",
          "height": 202
        }
      },
      "source": [
        "!wget http://files.fast.ai/data/dogscats.zip"
      ],
      "execution_count": 2,
      "outputs": [
        {
          "output_type": "stream",
          "text": [
            "--2019-06-13 16:12:35--  http://files.fast.ai/data/dogscats.zip\n",
            "Resolving files.fast.ai (files.fast.ai)... 67.205.15.147\n",
            "Connecting to files.fast.ai (files.fast.ai)|67.205.15.147|:80... connected.\n",
            "HTTP request sent, awaiting response... 200 OK\n",
            "Length: 857214334 (818M) [application/zip]\n",
            "Saving to: ‘dogscats.zip’\n",
            "\n",
            "dogscats.zip        100%[===================>] 817.50M   107MB/s    in 7.8s    \n",
            "\n",
            "2019-06-13 16:12:43 (104 MB/s) - ‘dogscats.zip’ saved [857214334/857214334]\n",
            "\n"
          ],
          "name": "stdout"
        }
      ]
    },
    {
      "cell_type": "markdown",
      "metadata": {
        "colab_type": "text",
        "id": "rYV1NbwFe-BF"
      },
      "source": [
        "# Prepare dataset"
      ]
    },
    {
      "cell_type": "code",
      "metadata": {
        "colab_type": "code",
        "id": "aGjDY5-EgrMW",
        "colab": {}
      },
      "source": [
        "!unzip dogscats.zip"
      ],
      "execution_count": 0,
      "outputs": []
    },
    {
      "cell_type": "code",
      "metadata": {
        "colab_type": "code",
        "id": "yjEhuhoSe-BG",
        "colab": {}
      },
      "source": [
        "dataset_path = \"./dogscats\"\n",
        "training_set = dataset_path + \"/train\"\n",
        "validation_set =dataset_path + \"/valid\""
      ],
      "execution_count": 0,
      "outputs": []
    },
    {
      "cell_type": "code",
      "metadata": {
        "id": "K-kIEjoyfXMn",
        "colab_type": "code",
        "colab": {}
      },
      "source": [
        "def prepare_dataset(train_dir, val_dir, size):\n",
        "  \n",
        "  # training set\n",
        "  \n",
        "  directory = os.listdir(train_dir + '/dogs')\n",
        "  train_dogs = []\n",
        "  train_dogs_labels = []\n",
        "  for img in directory:\n",
        "    train_dogs.append(cv2.resize(cv2.imread(train_dir + '/dogs/' + img), (size, size)).reshape(-1))\n",
        "    train_dogs_labels.append(1)\n",
        "    \n",
        "  train_dogs = np.array(train_dogs)\n",
        "  train_dogs_labels = np.array(train_dogs_labels)\n",
        "  directory = os.listdir(train_dir + '/cats')\n",
        "  train_cats = []\n",
        "  train_cats_labels = []\n",
        "  for img in directory:\n",
        "    train_cats.append(cv2.resize(cv2.imread(train_dir + '/cats/' + img), (size, size)).reshape(-1))\n",
        "    train_cats_labels.append(0)\n",
        "\n",
        "  train_cats = np.array(train_cats)\n",
        "  train_cats_labels = np.array(train_cats_labels)\n",
        "  \n",
        "  # validation set\n",
        "  \n",
        "  directory = os.listdir(val_dir + '/dogs')\n",
        "  val_dogs = []\n",
        "  val_dogs_labels = []\n",
        "  for img in directory:\n",
        "    val_dogs.append(cv2.resize(cv2.imread(val_dir + '/dogs/' + img), (size, size)).reshape(-1))\n",
        "    val_dogs_labels.append(1)\n",
        "    \n",
        "  val_dogs = np.array(val_dogs)\n",
        "  val_dogs_labels = np.array(val_dogs_labels)\n",
        "  \n",
        "  directory = os.listdir(val_dir + '/cats')\n",
        "  val_cats = []\n",
        "  val_cats_labels = []\n",
        "  for img in directory:\n",
        "    val_cats.append(cv2.resize(cv2.imread(val_dir + '/cats/' + img), (size, size)).reshape(-1))\n",
        "    val_cats_labels.append(0)\n",
        "\n",
        "  val_cats = np.array(val_cats)\n",
        "  val_cats_labels = np.array(val_cats_labels)\n",
        "  \n",
        "  \n",
        "  x_train = np.concatenate((train_dogs, train_cats))\n",
        "  y_train = np.concatenate((train_dogs_labels, train_cats_labels))\n",
        "  \n",
        "  x_test = np.concatenate((val_dogs, val_cats))\n",
        "  y_test = np.concatenate((val_dogs_labels, val_cats_labels))\n",
        "  \n",
        "  x_train, y_train = shuffle(x_train, y_train, random_state=123)\n",
        "  x_test, y_test = shuffle(x_test, y_test, random_state=123)\n",
        "  \n",
        "  return x_train, y_train, x_test, y_test"
      ],
      "execution_count": 0,
      "outputs": []
    },
    {
      "cell_type": "code",
      "metadata": {
        "id": "lsw0JWBZi6D6",
        "colab_type": "code",
        "colab": {}
      },
      "source": [
        "x_train, y_train, x_test, y_test = prepare_dataset(training_set, validation_set, size=28)"
      ],
      "execution_count": 0,
      "outputs": []
    },
    {
      "cell_type": "code",
      "metadata": {
        "id": "O25U8T4yi6Gw",
        "colab_type": "code",
        "colab": {
          "base_uri": "https://localhost:8080/",
          "height": 34
        },
        "outputId": "5ad4f43d-db7b-47dc-aee3-b23223476741"
      },
      "source": [
        "print(\"Shape of images in the training set:\", x_train.shape)"
      ],
      "execution_count": 7,
      "outputs": [
        {
          "output_type": "stream",
          "text": [
            "Shape of images in the training set: (23000, 2352)\n"
          ],
          "name": "stdout"
        }
      ]
    },
    {
      "cell_type": "code",
      "metadata": {
        "id": "-0srdQpCjs9l",
        "colab_type": "code",
        "colab": {
          "base_uri": "https://localhost:8080/",
          "height": 34
        },
        "outputId": "3b35522c-3c92-411f-f3d5-eb244a790207"
      },
      "source": [
        "print(\"Shape of images in the validation set:\", x_test.shape)"
      ],
      "execution_count": 8,
      "outputs": [
        {
          "output_type": "stream",
          "text": [
            "Shape of images in the validation set: (2000, 2352)\n"
          ],
          "name": "stdout"
        }
      ]
    },
    {
      "cell_type": "markdown",
      "metadata": {
        "id": "NgESZ3pDl2av",
        "colab_type": "text"
      },
      "source": [
        "# Normalize Data"
      ]
    },
    {
      "cell_type": "code",
      "metadata": {
        "id": "MpxIymOQl10R",
        "colab_type": "code",
        "colab": {}
      },
      "source": [
        "x_train = x_train.astype('float32') / 255.\n",
        "x_test = x_test.astype('float32') / 255."
      ],
      "execution_count": 0,
      "outputs": []
    },
    {
      "cell_type": "markdown",
      "metadata": {
        "colab_type": "text",
        "id": "DU7ouXG1e-BX"
      },
      "source": [
        "# Model architecture"
      ]
    },
    {
      "cell_type": "code",
      "metadata": {
        "colab_type": "code",
        "id": "2XV0EAZPe-BY",
        "colab": {}
      },
      "source": [
        "model = models.Sequential()\n",
        "model.add(layers.Dense(1, activation='sigmoid', input_dim=(28*28*3)))"
      ],
      "execution_count": 0,
      "outputs": []
    },
    {
      "cell_type": "code",
      "metadata": {
        "colab_type": "code",
        "id": "Z_NFGJkKe-Ba",
        "outputId": "782b2d51-8805-4634-bfeb-1d7314ac6b0c",
        "colab": {
          "base_uri": "https://localhost:8080/",
          "height": 168
        }
      },
      "source": [
        "model.summary()"
      ],
      "execution_count": 11,
      "outputs": [
        {
          "output_type": "stream",
          "text": [
            "_________________________________________________________________\n",
            "Layer (type)                 Output Shape              Param #   \n",
            "=================================================================\n",
            "dense_1 (Dense)              (None, 1)                 2353      \n",
            "=================================================================\n",
            "Total params: 2,353\n",
            "Trainable params: 2,353\n",
            "Non-trainable params: 0\n",
            "_________________________________________________________________\n"
          ],
          "name": "stdout"
        }
      ]
    },
    {
      "cell_type": "markdown",
      "metadata": {
        "colab_type": "text",
        "id": "ftUV-muVe-Be"
      },
      "source": [
        "# Cost function, optimizer, ..."
      ]
    },
    {
      "cell_type": "code",
      "metadata": {
        "colab_type": "code",
        "id": "kJw8lWGle-Be",
        "colab": {}
      },
      "source": [
        "model.compile(loss='binary_crossentropy',\n",
        "              optimizer=optimizers.RMSprop(lr=1e-3),\n",
        "              metrics=['acc'])"
      ],
      "execution_count": 0,
      "outputs": []
    },
    {
      "cell_type": "markdown",
      "metadata": {
        "colab_type": "text",
        "id": "lvVnXEkVe-Bl"
      },
      "source": [
        "# Training"
      ]
    },
    {
      "cell_type": "code",
      "metadata": {
        "colab_type": "code",
        "id": "XQN5ghUve-Bn",
        "outputId": "190c776d-bb76-4ed2-a1a5-3dcf76a656bb",
        "colab": {
          "base_uri": "https://localhost:8080/",
          "height": 1767
        }
      },
      "source": [
        "history = model.fit(x=x_train, y=y_train, epochs=50, validation_data=(x_test, y_test))"
      ],
      "execution_count": 13,
      "outputs": [
        {
          "output_type": "stream",
          "text": [
            "W0613 16:14:02.726102 140531334674304 deprecation_wrapper.py:119] From /usr/local/lib/python3.6/dist-packages/keras/backend/tensorflow_backend.py:986: The name tf.assign_add is deprecated. Please use tf.compat.v1.assign_add instead.\n",
            "\n"
          ],
          "name": "stderr"
        },
        {
          "output_type": "stream",
          "text": [
            "Train on 23000 samples, validate on 2000 samples\n",
            "Epoch 1/50\n",
            "23000/23000 [==============================] - 6s 247us/step - loss: 0.7156 - acc: 0.5457 - val_loss: 0.7070 - val_acc: 0.5455\n",
            "Epoch 2/50\n",
            "23000/23000 [==============================] - 2s 84us/step - loss: 0.7045 - acc: 0.5651 - val_loss: 0.6618 - val_acc: 0.5940\n",
            "Epoch 3/50\n",
            "23000/23000 [==============================] - 2s 84us/step - loss: 0.6962 - acc: 0.5747 - val_loss: 0.7494 - val_acc: 0.5320\n",
            "Epoch 4/50\n",
            "23000/23000 [==============================] - 2s 83us/step - loss: 0.6960 - acc: 0.5744 - val_loss: 0.7478 - val_acc: 0.5345\n",
            "Epoch 5/50\n",
            "23000/23000 [==============================] - 2s 82us/step - loss: 0.6901 - acc: 0.5849 - val_loss: 0.6902 - val_acc: 0.5755\n",
            "Epoch 6/50\n",
            "23000/23000 [==============================] - 2s 82us/step - loss: 0.6877 - acc: 0.5874 - val_loss: 0.8119 - val_acc: 0.5245\n",
            "Epoch 7/50\n",
            "23000/23000 [==============================] - 2s 83us/step - loss: 0.6878 - acc: 0.5859 - val_loss: 0.8502 - val_acc: 0.5195\n",
            "Epoch 8/50\n",
            "23000/23000 [==============================] - 2s 82us/step - loss: 0.6857 - acc: 0.5937 - val_loss: 0.6658 - val_acc: 0.6050\n",
            "Epoch 9/50\n",
            "23000/23000 [==============================] - 2s 83us/step - loss: 0.6844 - acc: 0.5867 - val_loss: 0.6480 - val_acc: 0.6285\n",
            "Epoch 10/50\n",
            "23000/23000 [==============================] - 2s 81us/step - loss: 0.6821 - acc: 0.5965 - val_loss: 0.7829 - val_acc: 0.5235\n",
            "Epoch 11/50\n",
            "23000/23000 [==============================] - 2s 82us/step - loss: 0.6781 - acc: 0.6021 - val_loss: 0.6635 - val_acc: 0.6045\n",
            "Epoch 12/50\n",
            "23000/23000 [==============================] - 2s 82us/step - loss: 0.6784 - acc: 0.5945 - val_loss: 0.7751 - val_acc: 0.5370\n",
            "Epoch 13/50\n",
            "23000/23000 [==============================] - 2s 82us/step - loss: 0.6755 - acc: 0.5994 - val_loss: 0.6610 - val_acc: 0.6115\n",
            "Epoch 14/50\n",
            "23000/23000 [==============================] - 2s 82us/step - loss: 0.6738 - acc: 0.6014 - val_loss: 0.7687 - val_acc: 0.5345\n",
            "Epoch 15/50\n",
            "23000/23000 [==============================] - 2s 82us/step - loss: 0.6756 - acc: 0.6049 - val_loss: 0.6849 - val_acc: 0.5805\n",
            "Epoch 16/50\n",
            "23000/23000 [==============================] - 2s 83us/step - loss: 0.6741 - acc: 0.6035 - val_loss: 0.6457 - val_acc: 0.6225\n",
            "Epoch 17/50\n",
            "23000/23000 [==============================] - 2s 83us/step - loss: 0.6752 - acc: 0.6008 - val_loss: 0.6989 - val_acc: 0.5650\n",
            "Epoch 18/50\n",
            "23000/23000 [==============================] - 2s 82us/step - loss: 0.6747 - acc: 0.6000 - val_loss: 0.6467 - val_acc: 0.6345\n",
            "Epoch 19/50\n",
            "23000/23000 [==============================] - 2s 83us/step - loss: 0.6713 - acc: 0.6079 - val_loss: 0.6484 - val_acc: 0.6295\n",
            "Epoch 20/50\n",
            "23000/23000 [==============================] - 2s 83us/step - loss: 0.6717 - acc: 0.6071 - val_loss: 0.6595 - val_acc: 0.6085\n",
            "Epoch 21/50\n",
            "23000/23000 [==============================] - 2s 83us/step - loss: 0.6700 - acc: 0.6131 - val_loss: 0.6461 - val_acc: 0.6215\n",
            "Epoch 22/50\n",
            "23000/23000 [==============================] - 2s 84us/step - loss: 0.6708 - acc: 0.6113 - val_loss: 0.6489 - val_acc: 0.6325\n",
            "Epoch 23/50\n",
            "23000/23000 [==============================] - 2s 83us/step - loss: 0.6709 - acc: 0.6089 - val_loss: 0.7560 - val_acc: 0.5615\n",
            "Epoch 24/50\n",
            "23000/23000 [==============================] - 2s 83us/step - loss: 0.6697 - acc: 0.6113 - val_loss: 0.6587 - val_acc: 0.6005\n",
            "Epoch 25/50\n",
            "23000/23000 [==============================] - 2s 82us/step - loss: 0.6698 - acc: 0.6118 - val_loss: 0.6471 - val_acc: 0.6435\n",
            "Epoch 26/50\n",
            "23000/23000 [==============================] - 2s 84us/step - loss: 0.6686 - acc: 0.6147 - val_loss: 0.6489 - val_acc: 0.6290\n",
            "Epoch 27/50\n",
            "23000/23000 [==============================] - 2s 84us/step - loss: 0.6646 - acc: 0.6163 - val_loss: 0.6543 - val_acc: 0.6295\n",
            "Epoch 28/50\n",
            "23000/23000 [==============================] - 2s 83us/step - loss: 0.6691 - acc: 0.6114 - val_loss: 0.6478 - val_acc: 0.6290\n",
            "Epoch 29/50\n",
            "23000/23000 [==============================] - 2s 82us/step - loss: 0.6687 - acc: 0.6135 - val_loss: 0.7340 - val_acc: 0.5525\n",
            "Epoch 30/50\n",
            "23000/23000 [==============================] - 2s 83us/step - loss: 0.6691 - acc: 0.6107 - val_loss: 0.6505 - val_acc: 0.6245\n",
            "Epoch 31/50\n",
            "23000/23000 [==============================] - 2s 81us/step - loss: 0.6661 - acc: 0.6157 - val_loss: 0.6524 - val_acc: 0.6210\n",
            "Epoch 32/50\n",
            "23000/23000 [==============================] - 2s 82us/step - loss: 0.6676 - acc: 0.6120 - val_loss: 0.7099 - val_acc: 0.5600\n",
            "Epoch 33/50\n",
            "23000/23000 [==============================] - 2s 83us/step - loss: 0.6641 - acc: 0.6169 - val_loss: 0.7208 - val_acc: 0.5810\n",
            "Epoch 34/50\n",
            "23000/23000 [==============================] - 2s 83us/step - loss: 0.6657 - acc: 0.6167 - val_loss: 0.8558 - val_acc: 0.5245\n",
            "Epoch 35/50\n",
            "23000/23000 [==============================] - 2s 84us/step - loss: 0.6663 - acc: 0.6143 - val_loss: 0.8120 - val_acc: 0.5500\n",
            "Epoch 36/50\n",
            "23000/23000 [==============================] - 2s 84us/step - loss: 0.6674 - acc: 0.6148 - val_loss: 0.6586 - val_acc: 0.6225\n",
            "Epoch 37/50\n",
            "23000/23000 [==============================] - 2s 84us/step - loss: 0.6633 - acc: 0.6180 - val_loss: 0.6571 - val_acc: 0.6245\n",
            "Epoch 38/50\n",
            "23000/23000 [==============================] - 2s 83us/step - loss: 0.6634 - acc: 0.6188 - val_loss: 0.6558 - val_acc: 0.6075\n",
            "Epoch 39/50\n",
            "23000/23000 [==============================] - 2s 83us/step - loss: 0.6664 - acc: 0.6156 - val_loss: 0.7374 - val_acc: 0.5740\n",
            "Epoch 40/50\n",
            "23000/23000 [==============================] - 2s 85us/step - loss: 0.6636 - acc: 0.6154 - val_loss: 0.8370 - val_acc: 0.5270\n",
            "Epoch 41/50\n",
            "23000/23000 [==============================] - 2s 82us/step - loss: 0.6638 - acc: 0.6197 - val_loss: 0.6574 - val_acc: 0.6270\n",
            "Epoch 42/50\n",
            "23000/23000 [==============================] - 2s 83us/step - loss: 0.6638 - acc: 0.6138 - val_loss: 0.7379 - val_acc: 0.5510\n",
            "Epoch 43/50\n",
            "23000/23000 [==============================] - 2s 83us/step - loss: 0.6644 - acc: 0.6178 - val_loss: 0.6475 - val_acc: 0.6260\n",
            "Epoch 44/50\n",
            "23000/23000 [==============================] - 2s 83us/step - loss: 0.6656 - acc: 0.6187 - val_loss: 0.7489 - val_acc: 0.5490\n",
            "Epoch 45/50\n",
            "23000/23000 [==============================] - 2s 84us/step - loss: 0.6666 - acc: 0.6180 - val_loss: 0.6524 - val_acc: 0.6190\n",
            "Epoch 46/50\n",
            "23000/23000 [==============================] - 2s 82us/step - loss: 0.6642 - acc: 0.6169 - val_loss: 0.8677 - val_acc: 0.5410\n",
            "Epoch 47/50\n",
            "23000/23000 [==============================] - 2s 83us/step - loss: 0.6658 - acc: 0.6167 - val_loss: 0.6528 - val_acc: 0.6320\n",
            "Epoch 48/50\n",
            "23000/23000 [==============================] - 2s 83us/step - loss: 0.6633 - acc: 0.6185 - val_loss: 0.6585 - val_acc: 0.6050\n",
            "Epoch 49/50\n",
            "23000/23000 [==============================] - 2s 84us/step - loss: 0.6629 - acc: 0.6196 - val_loss: 0.7420 - val_acc: 0.5525\n",
            "Epoch 50/50\n",
            "23000/23000 [==============================] - 2s 83us/step - loss: 0.6646 - acc: 0.6170 - val_loss: 0.6517 - val_acc: 0.6355\n"
          ],
          "name": "stdout"
        }
      ]
    },
    {
      "cell_type": "markdown",
      "metadata": {
        "colab_type": "text",
        "id": "ceTbzPrGe-Bq"
      },
      "source": [
        "# Plot accuracy and loss"
      ]
    },
    {
      "cell_type": "code",
      "metadata": {
        "colab_type": "code",
        "id": "PjOrJuefe-Br",
        "outputId": "30257589-e2d5-4996-f55b-140096eef1d7",
        "colab": {
          "base_uri": "https://localhost:8080/",
          "height": 545
        }
      },
      "source": [
        "acc = history.history['acc']\n",
        "val_acc = history.history['val_acc']\n",
        "loss = history.history['loss']\n",
        "val_loss = history.history['val_loss']\n",
        "\n",
        "epochs = range(len(acc))\n",
        "\n",
        "plt.plot(epochs, acc, 'r', label='Training Accuracy')\n",
        "plt.plot(epochs, val_acc, 'b', label='Validation Accuracy')\n",
        "plt.title('Training and Validation Accuracy')\n",
        "plt.legend()\n",
        "\n",
        "plt.figure()\n",
        "\n",
        "plt.plot(epochs, loss, 'r', label='Training Loss')\n",
        "plt.plot(epochs, val_loss, 'b', label='Validation Loss')\n",
        "plt.title('Training and Validation Loss')\n",
        "plt.legend()\n",
        "\n",
        "plt.show()"
      ],
      "execution_count": 14,
      "outputs": [
        {
          "output_type": "display_data",
          "data": {
            "image/png": "[encoded data removed]",
            "text/plain": [
              "<Figure size 432x288 with 1 Axes>"
            ]
          },
          "metadata": {
            "tags": []
          }
        },
        {
          "output_type": "display_data",
          "data": {
            "image/png": "[encoded data removed]",
            "text/plain": [
              "<Figure size 432x288 with 1 Axes>"
            ]
          },
          "metadata": {
            "tags": []
          }
        }
      ]
    },
    {
      "cell_type": "markdown",
      "metadata": {
        "colab_type": "text",
        "id": "snfDcEhve-Bw"
      },
      "source": [
        "# Save the model"
      ]
    },
    {
      "cell_type": "code",
      "metadata": {
        "colab_type": "code",
        "id": "VfGFobXZe-Bw",
        "colab": {}
      },
      "source": [
        "model.save('Logistic_Regression.h5')"
      ],
      "execution_count": 0,
      "outputs": []
    },
    {
      "cell_type": "markdown",
      "metadata": {
        "colab_type": "text",
        "id": "WGsrr6M9h4Py"
      },
      "source": [
        "# Evaluate the model"
      ]
    },
    {
      "cell_type": "code",
      "metadata": {
        "colab_type": "code",
        "id": "aolmAcGsh4Wo",
        "outputId": "f9c4ea06-326c-4840-fe91-5dcf8889c68d",
        "colab": {
          "base_uri": "https://localhost:8080/",
          "height": 50
        }
      },
      "source": [
        "test_loss, test_acc = model.evaluate(x=x_test, y=y_test)\n",
        "print('Accuracy on Validation Set:', test_acc)"
      ],
      "execution_count": 17,
      "outputs": [
        {
          "output_type": "stream",
          "text": [
            "2000/2000 [==============================] - 0s 48us/step\n",
            "Accuracy on Validation Set: 0.6355\n"
          ],
          "name": "stdout"
        }
      ]
    },
    {
      "cell_type": "markdown",
      "metadata": {
        "colab_type": "text",
        "id": "IB-08OXWe-B0"
      },
      "source": [
        "# Train more with lower learning rate"
      ]
    },
    {
      "cell_type": "code",
      "metadata": {
        "colab_type": "code",
        "id": "TPZvkPYAe-B1",
        "outputId": "b86fdc8d-ba8f-4e41-c2ef-a856e8bee54a",
        "colab": {
          "base_uri": "https://localhost:8080/",
          "height": 370
        }
      },
      "source": [
        "model.compile(loss='binary_crossentropy',\n",
        "              optimizer=optimizers.RMSprop(lr=1e-6),\n",
        "              metrics=['acc'])\n",
        "\n",
        "history = model.fit(x=x_train, y=y_train, epochs=10, validation_data=(x_test, y_test))"
      ],
      "execution_count": 19,
      "outputs": [
        {
          "output_type": "stream",
          "text": [
            "Train on 23000 samples, validate on 2000 samples\n",
            "Epoch 1/10\n",
            "23000/23000 [==============================] - 2s 93us/step - loss: 0.6193 - acc: 0.6590 - val_loss: 0.6486 - val_acc: 0.6400\n",
            "Epoch 2/10\n",
            "23000/23000 [==============================] - 2s 83us/step - loss: 0.6193 - acc: 0.6583 - val_loss: 0.6487 - val_acc: 0.6405\n",
            "Epoch 3/10\n",
            "23000/23000 [==============================] - 2s 84us/step - loss: 0.6193 - acc: 0.6587 - val_loss: 0.6486 - val_acc: 0.6395\n",
            "Epoch 4/10\n",
            "23000/23000 [==============================] - 2s 83us/step - loss: 0.6193 - acc: 0.6585 - val_loss: 0.6486 - val_acc: 0.6410\n",
            "Epoch 5/10\n",
            "23000/23000 [==============================] - 2s 87us/step - loss: 0.6192 - acc: 0.6583 - val_loss: 0.6486 - val_acc: 0.6405\n",
            "Epoch 6/10\n",
            "23000/23000 [==============================] - 2s 88us/step - loss: 0.6192 - acc: 0.6580 - val_loss: 0.6486 - val_acc: 0.6410\n",
            "Epoch 7/10\n",
            "23000/23000 [==============================] - 2s 87us/step - loss: 0.6192 - acc: 0.6586 - val_loss: 0.6486 - val_acc: 0.6410\n",
            "Epoch 8/10\n",
            "23000/23000 [==============================] - 2s 87us/step - loss: 0.6192 - acc: 0.6585 - val_loss: 0.6485 - val_acc: 0.6385\n",
            "Epoch 9/10\n",
            "23000/23000 [==============================] - 2s 88us/step - loss: 0.6192 - acc: 0.6588 - val_loss: 0.6487 - val_acc: 0.6400\n",
            "Epoch 10/10\n",
            "23000/23000 [==============================] - 2s 85us/step - loss: 0.6192 - acc: 0.6587 - val_loss: 0.6486 - val_acc: 0.6410\n"
          ],
          "name": "stdout"
        }
      ]
    },
    {
      "cell_type": "markdown",
      "metadata": {
        "colab_type": "text",
        "id": "7geG0OTte-B8"
      },
      "source": [
        "# Save the model"
      ]
    },
    {
      "cell_type": "code",
      "metadata": {
        "colab_type": "code",
        "id": "MhnQZ3wRe-B9",
        "colab": {}
      },
      "source": [
        "model.save('Logistic_Regression_lower_lr.h5')"
      ],
      "execution_count": 0,
      "outputs": []
    },
    {
      "cell_type": "markdown",
      "metadata": {
        "colab_type": "text",
        "id": "7hd5r7SZe-CB"
      },
      "source": [
        "# Evaluate the model"
      ]
    },
    {
      "cell_type": "code",
      "metadata": {
        "colab_type": "code",
        "id": "GhKZf-bDe-CB",
        "outputId": "8fcb813f-67c1-41e2-c584-5e4373551ae0",
        "colab": {
          "base_uri": "https://localhost:8080/",
          "height": 50
        }
      },
      "source": [
        "test_loss, test_acc = model.evaluate(x=x_test, y=y_test)\n",
        "print('Accuracy on Validation Set:', test_acc)"
      ],
      "execution_count": 21,
      "outputs": [
        {
          "output_type": "stream",
          "text": [
            "2000/2000 [==============================] - 0s 46us/step\n",
            "Accuracy on Validation Set: 0.641\n"
          ],
          "name": "stdout"
        }
      ]
    },
    {
      "cell_type": "code",
      "metadata": {
        "colab_type": "code",
        "id": "-6WYnycGdHPB",
        "colab": {}
      },
      "source": [
        ""
      ],
      "execution_count": 0,
      "outputs": []
    }
  ]
}