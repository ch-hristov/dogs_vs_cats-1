{
  "nbformat": 4,
  "nbformat_minor": 0,
  "metadata": {
    "colab": {
      "name": "Logistic Regression + MLP.ipynb",
      "version": "0.3.2",
      "provenance": [],
      "collapsed_sections": [],
      "toc_visible": true
    },
    "language_info": {
      "codemirror_mode": {
        "name": "ipython",
        "version": 3
      },
      "file_extension": ".py",
      "mimetype": "text/x-python",
      "name": "python",
      "nbconvert_exporter": "python",
      "pygments_lexer": "ipython3",
      "version": "3.5.6"
    },
    "kernelspec": {
      "name": "python3",
      "display_name": "Python 3"
    },
    "accelerator": "GPU"
  },
  "cells": [
    {
      "cell_type": "code",
      "metadata": {
        "colab_type": "code",
        "id": "4Prhu8UDc_Qz",
        "outputId": "33b7b7e1-e6ac-40b6-d91e-50a69c88dc77",
        "colab": {
          "base_uri": "https://localhost:8080/",
          "height": 34
        }
      },
      "source": [
        "import keras\n",
        "import os\n",
        "from keras import layers\n",
        "from keras import models\n",
        "from keras import optimizers\n",
        "import matplotlib.pyplot as plt\n",
        "from sklearn.utils import shuffle\n",
        "import cv2\n",
        "import numpy as np\n",
        "from sklearn.decomposition import PCA\n",
        "%matplotlib inline"
      ],
      "execution_count": 7,
      "outputs": [
        {
          "output_type": "stream",
          "text": [
            "Using TensorFlow backend.\n"
          ],
          "name": "stderr"
        }
      ]
    },
    {
      "cell_type": "markdown",
      "metadata": {
        "colab_type": "text",
        "id": "_XTmWrw1dALE"
      },
      "source": [
        "# Download Dataset"
      ]
    },
    {
      "cell_type": "code",
      "metadata": {
        "colab_type": "code",
        "id": "Q-b_CGvWfu6t",
        "outputId": "d1387403-aaa6-4eec-e082-f56c55b729da",
        "colab": {
          "base_uri": "https://localhost:8080/",
          "height": 202
        }
      },
      "source": [
        "!wget http://files.fast.ai/data/dogscats.zip"
      ],
      "execution_count": 2,
      "outputs": [
        {
          "output_type": "stream",
          "text": [
            "--2019-06-13 16:36:01--  http://files.fast.ai/data/dogscats.zip\n",
            "Resolving files.fast.ai (files.fast.ai)... 67.205.15.147\n",
            "Connecting to files.fast.ai (files.fast.ai)|67.205.15.147|:80... connected.\n",
            "HTTP request sent, awaiting response... 200 OK\n",
            "Length: 857214334 (818M) [application/zip]\n",
            "Saving to: ‘dogscats.zip’\n",
            "\n",
            "dogscats.zip        100%[===================>] 817.50M  15.6MB/s    in 53s     \n",
            "\n",
            "2019-06-13 16:37:00 (15.3 MB/s) - ‘dogscats.zip’ saved [857214334/857214334]\n",
            "\n"
          ],
          "name": "stdout"
        }
      ]
    },
    {
      "cell_type": "markdown",
      "metadata": {
        "colab_type": "text",
        "id": "rYV1NbwFe-BF"
      },
      "source": [
        "# Prepare dataset"
      ]
    },
    {
      "cell_type": "code",
      "metadata": {
        "colab_type": "code",
        "id": "aGjDY5-EgrMW",
        "colab": {}
      },
      "source": [
        "!unzip dogscats.zip"
      ],
      "execution_count": 0,
      "outputs": []
    },
    {
      "cell_type": "code",
      "metadata": {
        "colab_type": "code",
        "id": "yjEhuhoSe-BG",
        "colab": {}
      },
      "source": [
        "dataset_path = \"./dogscats\"\n",
        "training_set = dataset_path + \"/train\"\n",
        "validation_set =dataset_path + \"/valid\""
      ],
      "execution_count": 0,
      "outputs": []
    },
    {
      "cell_type": "code",
      "metadata": {
        "id": "K-kIEjoyfXMn",
        "colab_type": "code",
        "colab": {}
      },
      "source": [
        "def prepare_dataset(train_dir, val_dir, size):\n",
        "  \n",
        "  # training set\n",
        "  \n",
        "  directory = os.listdir(train_dir + '/dogs')\n",
        "  train_dogs = []\n",
        "  train_dogs_labels = []\n",
        "  for img in directory:\n",
        "    train_dogs.append(cv2.resize(cv2.imread(train_dir + '/dogs/' + img), (size, size)).reshape(-1))\n",
        "    train_dogs_labels.append(1)\n",
        "    \n",
        "  train_dogs = np.array(train_dogs)\n",
        "  train_dogs_labels = np.array(train_dogs_labels)\n",
        "  directory = os.listdir(train_dir + '/cats')\n",
        "  train_cats = []\n",
        "  train_cats_labels = []\n",
        "  for img in directory:\n",
        "    train_cats.append(cv2.resize(cv2.imread(train_dir + '/cats/' + img), (size, size)).reshape(-1))\n",
        "    train_cats_labels.append(0)\n",
        "\n",
        "  train_cats = np.array(train_cats)\n",
        "  train_cats_labels = np.array(train_cats_labels)\n",
        "  \n",
        "  # validation set\n",
        "  \n",
        "  directory = os.listdir(val_dir + '/dogs')\n",
        "  val_dogs = []\n",
        "  val_dogs_labels = []\n",
        "  for img in directory:\n",
        "    val_dogs.append(cv2.resize(cv2.imread(val_dir + '/dogs/' + img), (size, size)).reshape(-1))\n",
        "    val_dogs_labels.append(1)\n",
        "    \n",
        "  val_dogs = np.array(val_dogs)\n",
        "  val_dogs_labels = np.array(val_dogs_labels)\n",
        "  \n",
        "  directory = os.listdir(val_dir + '/cats')\n",
        "  val_cats = []\n",
        "  val_cats_labels = []\n",
        "  for img in directory:\n",
        "    val_cats.append(cv2.resize(cv2.imread(val_dir + '/cats/' + img), (size, size)).reshape(-1))\n",
        "    val_cats_labels.append(0)\n",
        "\n",
        "  val_cats = np.array(val_cats)\n",
        "  val_cats_labels = np.array(val_cats_labels)\n",
        "  \n",
        "  \n",
        "  x_train = np.concatenate((train_dogs, train_cats))\n",
        "  y_train = np.concatenate((train_dogs_labels, train_cats_labels))\n",
        "  \n",
        "  x_test = np.concatenate((val_dogs, val_cats))\n",
        "  y_test = np.concatenate((val_dogs_labels, val_cats_labels))\n",
        "  \n",
        "  x_train, y_train = shuffle(x_train, y_train, random_state=123)\n",
        "  x_test, y_test = shuffle(x_test, y_test, random_state=123)\n",
        "  \n",
        "  return x_train, y_train, x_test, y_test"
      ],
      "execution_count": 0,
      "outputs": []
    },
    {
      "cell_type": "code",
      "metadata": {
        "id": "lsw0JWBZi6D6",
        "colab_type": "code",
        "colab": {}
      },
      "source": [
        "x_train, y_train, x_test, y_test = prepare_dataset(training_set, validation_set, size=100)"
      ],
      "execution_count": 0,
      "outputs": []
    },
    {
      "cell_type": "code",
      "metadata": {
        "id": "O25U8T4yi6Gw",
        "colab_type": "code",
        "colab": {
          "base_uri": "https://localhost:8080/",
          "height": 34
        },
        "outputId": "342046bf-35e6-4c6b-9aa0-fbd7b5e83c84"
      },
      "source": [
        "print(\"Shape of images in the training set:\", x_train.shape)"
      ],
      "execution_count": 11,
      "outputs": [
        {
          "output_type": "stream",
          "text": [
            "Shape of images in the training set: (23000, 30000)\n"
          ],
          "name": "stdout"
        }
      ]
    },
    {
      "cell_type": "code",
      "metadata": {
        "id": "-0srdQpCjs9l",
        "colab_type": "code",
        "colab": {
          "base_uri": "https://localhost:8080/",
          "height": 34
        },
        "outputId": "516d507b-87c4-4b2d-a57a-2d0e3b8015f6"
      },
      "source": [
        "print(\"Shape of images in the validation set:\", x_test.shape)"
      ],
      "execution_count": 12,
      "outputs": [
        {
          "output_type": "stream",
          "text": [
            "Shape of images in the validation set: (2000, 30000)\n"
          ],
          "name": "stdout"
        }
      ]
    },
    {
      "cell_type": "markdown",
      "metadata": {
        "id": "l8vRa-uJsITr",
        "colab_type": "text"
      },
      "source": [
        "# Normalize data"
      ]
    },
    {
      "cell_type": "code",
      "metadata": {
        "id": "cuqCRlm4rRgJ",
        "colab_type": "code",
        "colab": {}
      },
      "source": [
        "x_train = x_train.astype('float32') / 255.\n",
        "x_test = x_test.astype('float32') / 255."
      ],
      "execution_count": 0,
      "outputs": []
    },
    {
      "cell_type": "markdown",
      "metadata": {
        "id": "o3QUip6jtTzT",
        "colab_type": "text"
      },
      "source": [
        "# Feature extraction"
      ]
    },
    {
      "cell_type": "code",
      "metadata": {
        "id": "gYj_gba2tT6u",
        "colab_type": "code",
        "colab": {}
      },
      "source": [
        "pca = PCA(n_components=200)\n",
        "pca.fit(x_train)\n",
        "\n",
        "x_train = pca.transform(x_train)\n",
        "x_test = pca.transform(x_test)"
      ],
      "execution_count": 0,
      "outputs": []
    },
    {
      "cell_type": "markdown",
      "metadata": {
        "colab_type": "text",
        "id": "DU7ouXG1e-BX"
      },
      "source": [
        "# Model architecture"
      ]
    },
    {
      "cell_type": "code",
      "metadata": {
        "colab_type": "code",
        "id": "2XV0EAZPe-BY",
        "colab": {}
      },
      "source": [
        "model = models.Sequential()\n",
        "# model.add(layers.Dense(512, activation='relu', input_dim=(200)))\n",
        "# model.add(layers.Dropout(0.5))\n",
        "# model.add(layers.Dense(256, activation='relu'))\n",
        "# model.add(layers.Dense(128, activation='relu'))\n",
        "model.add(layers.Dense(1, activation='sigmoid', input_dim=(200)))"
      ],
      "execution_count": 0,
      "outputs": []
    },
    {
      "cell_type": "code",
      "metadata": {
        "colab_type": "code",
        "id": "Z_NFGJkKe-Ba",
        "outputId": "c8a15eca-8ae8-42e4-f158-70c81a67f701",
        "colab": {
          "base_uri": "https://localhost:8080/",
          "height": 168
        }
      },
      "source": [
        "model.summary()"
      ],
      "execution_count": 48,
      "outputs": [
        {
          "output_type": "stream",
          "text": [
            "_________________________________________________________________\n",
            "Layer (type)                 Output Shape              Param #   \n",
            "=================================================================\n",
            "dense_21 (Dense)             (None, 1)                 201       \n",
            "=================================================================\n",
            "Total params: 201\n",
            "Trainable params: 201\n",
            "Non-trainable params: 0\n",
            "_________________________________________________________________\n"
          ],
          "name": "stdout"
        }
      ]
    },
    {
      "cell_type": "markdown",
      "metadata": {
        "colab_type": "text",
        "id": "ftUV-muVe-Be"
      },
      "source": [
        "# Cost function, optimizer, ..."
      ]
    },
    {
      "cell_type": "code",
      "metadata": {
        "colab_type": "code",
        "id": "kJw8lWGle-Be",
        "colab": {}
      },
      "source": [
        "model.compile(loss='binary_crossentropy',\n",
        "              optimizer=optimizers.RMSprop(lr=1e-3),\n",
        "              metrics=['acc'])"
      ],
      "execution_count": 0,
      "outputs": []
    },
    {
      "cell_type": "markdown",
      "metadata": {
        "colab_type": "text",
        "id": "lvVnXEkVe-Bl"
      },
      "source": [
        "# Training"
      ]
    },
    {
      "cell_type": "code",
      "metadata": {
        "colab_type": "code",
        "id": "XQN5ghUve-Bn",
        "outputId": "f9dea8be-c7ee-40be-e355-338ddbfa0ded",
        "colab": {
          "base_uri": "https://localhost:8080/",
          "height": 1714
        }
      },
      "source": [
        "history = model.fit(x=x_train, y=y_train, epochs=50, validation_data=(x_test, y_test))"
      ],
      "execution_count": 50,
      "outputs": [
        {
          "output_type": "stream",
          "text": [
            "Train on 23000 samples, validate on 2000 samples\n",
            "Epoch 1/50\n",
            "23000/23000 [==============================] - 3s 122us/step - loss: 0.9025 - acc: 0.5525 - val_loss: 0.6692 - val_acc: 0.6090\n",
            "Epoch 2/50\n",
            "23000/23000 [==============================] - 3s 110us/step - loss: 0.6616 - acc: 0.6061 - val_loss: 0.6538 - val_acc: 0.6310\n",
            "Epoch 3/50\n",
            "23000/23000 [==============================] - 3s 109us/step - loss: 0.6586 - acc: 0.6076 - val_loss: 0.6529 - val_acc: 0.6235\n",
            "Epoch 4/50\n",
            "23000/23000 [==============================] - 3s 109us/step - loss: 0.6588 - acc: 0.6089 - val_loss: 0.6486 - val_acc: 0.6280\n",
            "Epoch 5/50\n",
            "23000/23000 [==============================] - 3s 110us/step - loss: 0.6581 - acc: 0.6088 - val_loss: 0.6569 - val_acc: 0.6185\n",
            "Epoch 6/50\n",
            "23000/23000 [==============================] - 2s 108us/step - loss: 0.6585 - acc: 0.6093 - val_loss: 0.6527 - val_acc: 0.6235\n",
            "Epoch 7/50\n",
            "23000/23000 [==============================] - 3s 109us/step - loss: 0.6584 - acc: 0.6107 - val_loss: 0.6488 - val_acc: 0.6345\n",
            "Epoch 8/50\n",
            "23000/23000 [==============================] - 3s 110us/step - loss: 0.6581 - acc: 0.6114 - val_loss: 0.6542 - val_acc: 0.6265\n",
            "Epoch 9/50\n",
            "23000/23000 [==============================] - 3s 109us/step - loss: 0.6577 - acc: 0.6105 - val_loss: 0.6521 - val_acc: 0.6270\n",
            "Epoch 10/50\n",
            "23000/23000 [==============================] - 2s 108us/step - loss: 0.6584 - acc: 0.6106 - val_loss: 0.6548 - val_acc: 0.6170\n",
            "Epoch 11/50\n",
            "23000/23000 [==============================] - 2s 108us/step - loss: 0.6583 - acc: 0.6093 - val_loss: 0.6502 - val_acc: 0.6280\n",
            "Epoch 12/50\n",
            "23000/23000 [==============================] - 3s 111us/step - loss: 0.6585 - acc: 0.6080 - val_loss: 0.6524 - val_acc: 0.6325\n",
            "Epoch 13/50\n",
            "23000/23000 [==============================] - 3s 109us/step - loss: 0.6585 - acc: 0.6094 - val_loss: 0.6537 - val_acc: 0.6220\n",
            "Epoch 14/50\n",
            "23000/23000 [==============================] - 3s 109us/step - loss: 0.6579 - acc: 0.6123 - val_loss: 0.6535 - val_acc: 0.6255\n",
            "Epoch 15/50\n",
            "23000/23000 [==============================] - 3s 109us/step - loss: 0.6580 - acc: 0.6099 - val_loss: 0.6532 - val_acc: 0.6250\n",
            "Epoch 16/50\n",
            "23000/23000 [==============================] - 3s 111us/step - loss: 0.6585 - acc: 0.6086 - val_loss: 0.6570 - val_acc: 0.6225\n",
            "Epoch 17/50\n",
            "23000/23000 [==============================] - 3s 110us/step - loss: 0.6588 - acc: 0.6084 - val_loss: 0.6554 - val_acc: 0.6210\n",
            "Epoch 18/50\n",
            "23000/23000 [==============================] - 3s 109us/step - loss: 0.6584 - acc: 0.6094 - val_loss: 0.6513 - val_acc: 0.6220\n",
            "Epoch 19/50\n",
            "23000/23000 [==============================] - 3s 109us/step - loss: 0.6582 - acc: 0.6120 - val_loss: 0.6524 - val_acc: 0.6265\n",
            "Epoch 20/50\n",
            "23000/23000 [==============================] - 3s 109us/step - loss: 0.6586 - acc: 0.6097 - val_loss: 0.6520 - val_acc: 0.6300\n",
            "Epoch 21/50\n",
            "23000/23000 [==============================] - 3s 110us/step - loss: 0.6581 - acc: 0.6072 - val_loss: 0.6558 - val_acc: 0.6215\n",
            "Epoch 22/50\n",
            "23000/23000 [==============================] - 3s 110us/step - loss: 0.6584 - acc: 0.6091 - val_loss: 0.6555 - val_acc: 0.6210\n",
            "Epoch 23/50\n",
            "23000/23000 [==============================] - 3s 110us/step - loss: 0.6582 - acc: 0.6101 - val_loss: 0.6502 - val_acc: 0.6295\n",
            "Epoch 24/50\n",
            "23000/23000 [==============================] - 3s 109us/step - loss: 0.6583 - acc: 0.6146 - val_loss: 0.6489 - val_acc: 0.6265\n",
            "Epoch 25/50\n",
            "23000/23000 [==============================] - 3s 111us/step - loss: 0.6581 - acc: 0.6094 - val_loss: 0.6501 - val_acc: 0.6255\n",
            "Epoch 26/50\n",
            "23000/23000 [==============================] - 3s 109us/step - loss: 0.6587 - acc: 0.6077 - val_loss: 0.6522 - val_acc: 0.6255\n",
            "Epoch 27/50\n",
            "23000/23000 [==============================] - 3s 110us/step - loss: 0.6586 - acc: 0.6118 - val_loss: 0.6539 - val_acc: 0.6260\n",
            "Epoch 28/50\n",
            "23000/23000 [==============================] - 3s 109us/step - loss: 0.6579 - acc: 0.6110 - val_loss: 0.6563 - val_acc: 0.6245\n",
            "Epoch 29/50\n",
            "23000/23000 [==============================] - 3s 111us/step - loss: 0.6584 - acc: 0.6097 - val_loss: 0.6514 - val_acc: 0.6325\n",
            "Epoch 30/50\n",
            "23000/23000 [==============================] - 3s 110us/step - loss: 0.6581 - acc: 0.6131 - val_loss: 0.6541 - val_acc: 0.6230\n",
            "Epoch 31/50\n",
            "23000/23000 [==============================] - 3s 109us/step - loss: 0.6584 - acc: 0.6083 - val_loss: 0.6518 - val_acc: 0.6330\n",
            "Epoch 32/50\n",
            "23000/23000 [==============================] - 3s 109us/step - loss: 0.6576 - acc: 0.6120 - val_loss: 0.6509 - val_acc: 0.6280\n",
            "Epoch 33/50\n",
            "23000/23000 [==============================] - 3s 112us/step - loss: 0.6583 - acc: 0.6117 - val_loss: 0.6532 - val_acc: 0.6170\n",
            "Epoch 34/50\n",
            "23000/23000 [==============================] - 3s 109us/step - loss: 0.6586 - acc: 0.6082 - val_loss: 0.6523 - val_acc: 0.6295\n",
            "Epoch 35/50\n",
            "23000/23000 [==============================] - 3s 110us/step - loss: 0.6582 - acc: 0.6095 - val_loss: 0.6534 - val_acc: 0.6250\n",
            "Epoch 36/50\n",
            "23000/23000 [==============================] - 3s 109us/step - loss: 0.6586 - acc: 0.6074 - val_loss: 0.6490 - val_acc: 0.6290\n",
            "Epoch 37/50\n",
            "23000/23000 [==============================] - 3s 109us/step - loss: 0.6585 - acc: 0.6085 - val_loss: 0.6521 - val_acc: 0.6230\n",
            "Epoch 38/50\n",
            "23000/23000 [==============================] - 3s 109us/step - loss: 0.6586 - acc: 0.6101 - val_loss: 0.6504 - val_acc: 0.6270\n",
            "Epoch 39/50\n",
            "23000/23000 [==============================] - 3s 109us/step - loss: 0.6584 - acc: 0.6085 - val_loss: 0.6495 - val_acc: 0.6280\n",
            "Epoch 40/50\n",
            "23000/23000 [==============================] - 3s 109us/step - loss: 0.6588 - acc: 0.6121 - val_loss: 0.6509 - val_acc: 0.6190\n",
            "Epoch 41/50\n",
            "23000/23000 [==============================] - 3s 110us/step - loss: 0.6587 - acc: 0.6078 - val_loss: 0.6520 - val_acc: 0.6290\n",
            "Epoch 42/50\n",
            "23000/23000 [==============================] - 3s 109us/step - loss: 0.6583 - acc: 0.6108 - val_loss: 0.6498 - val_acc: 0.6215\n",
            "Epoch 43/50\n",
            "23000/23000 [==============================] - 2s 108us/step - loss: 0.6588 - acc: 0.6105 - val_loss: 0.6528 - val_acc: 0.6200\n",
            "Epoch 44/50\n",
            "23000/23000 [==============================] - 2s 108us/step - loss: 0.6578 - acc: 0.6155 - val_loss: 0.6508 - val_acc: 0.6310\n",
            "Epoch 45/50\n",
            "23000/23000 [==============================] - 3s 109us/step - loss: 0.6584 - acc: 0.6086 - val_loss: 0.6515 - val_acc: 0.6310\n",
            "Epoch 46/50\n",
            "23000/23000 [==============================] - 3s 110us/step - loss: 0.6585 - acc: 0.6094 - val_loss: 0.6534 - val_acc: 0.6145\n",
            "Epoch 47/50\n",
            "23000/23000 [==============================] - 3s 110us/step - loss: 0.6589 - acc: 0.6067 - val_loss: 0.6500 - val_acc: 0.6295\n",
            "Epoch 48/50\n",
            "23000/23000 [==============================] - 2s 108us/step - loss: 0.6584 - acc: 0.6095 - val_loss: 0.6526 - val_acc: 0.6250\n",
            "Epoch 49/50\n",
            "23000/23000 [==============================] - 3s 109us/step - loss: 0.6584 - acc: 0.6110 - val_loss: 0.6544 - val_acc: 0.6265\n",
            "Epoch 50/50\n",
            "23000/23000 [==============================] - 3s 109us/step - loss: 0.6575 - acc: 0.6101 - val_loss: 0.6543 - val_acc: 0.6190\n"
          ],
          "name": "stdout"
        }
      ]
    },
    {
      "cell_type": "markdown",
      "metadata": {
        "colab_type": "text",
        "id": "ceTbzPrGe-Bq"
      },
      "source": [
        "# Plot accuracy and loss"
      ]
    },
    {
      "cell_type": "code",
      "metadata": {
        "colab_type": "code",
        "id": "PjOrJuefe-Br",
        "outputId": "481c4421-16ee-44f6-ed52-d441e8a39984",
        "colab": {
          "base_uri": "https://localhost:8080/",
          "height": 545
        }
      },
      "source": [
        "acc = history.history['acc']\n",
        "val_acc = history.history['val_acc']\n",
        "loss = history.history['loss']\n",
        "val_loss = history.history['val_loss']\n",
        "\n",
        "epochs = range(len(acc))\n",
        "\n",
        "plt.plot(epochs, acc, 'r', label='Training Accuracy')\n",
        "plt.plot(epochs, val_acc, 'b', label='Validation Accuracy')\n",
        "plt.title('Training and Validation Accuracy')\n",
        "plt.legend()\n",
        "\n",
        "plt.figure()\n",
        "\n",
        "plt.plot(epochs, loss, 'r', label='Training Loss')\n",
        "plt.plot(epochs, val_loss, 'b', label='Validation Loss')\n",
        "plt.title('Training and Validation Loss')\n",
        "plt.legend()\n",
        "\n",
        "plt.show()"
      ],
      "execution_count": 51,
      "outputs": [
        {
          "output_type": "display_data",
          "data": {
            "image/png": "[encoded data removed]",
            "text/plain": [
              "<Figure size 432x288 with 1 Axes>"
            ]
          },
          "metadata": {
            "tags": []
          }
        },
        {
          "output_type": "display_data",
          "data": {
            "image/png": "[encoded data removed]",
            "text/plain": [
              "<Figure size 432x288 with 1 Axes>"
            ]
          },
          "metadata": {
            "tags": []
          }
        }
      ]
    },
    {
      "cell_type": "markdown",
      "metadata": {
        "colab_type": "text",
        "id": "WGsrr6M9h4Py"
      },
      "source": [
        "# Evaluate the model"
      ]
    },
    {
      "cell_type": "code",
      "metadata": {
        "colab_type": "code",
        "id": "aolmAcGsh4Wo",
        "outputId": "7fd0846d-9191-4972-f2b4-38eff9c2e74f",
        "colab": {
          "base_uri": "https://localhost:8080/",
          "height": 50
        }
      },
      "source": [
        "test_loss, test_acc = model.evaluate(x=x_test, y=y_test)\n",
        "print('Accuracy on Validation Set:', test_acc)"
      ],
      "execution_count": 53,
      "outputs": [
        {
          "output_type": "stream",
          "text": [
            "2000/2000 [==============================] - 0s 54us/step\n",
            "Accuracy on Validation Set: 0.619\n"
          ],
          "name": "stdout"
        }
      ]
    },
    {
      "cell_type": "markdown",
      "metadata": {
        "colab_type": "text",
        "id": "IB-08OXWe-B0"
      },
      "source": [
        "# Train more with lower learning rate"
      ]
    },
    {
      "cell_type": "code",
      "metadata": {
        "colab_type": "code",
        "id": "TPZvkPYAe-B1",
        "outputId": "621bffe3-a27b-4a11-9afb-5d61b02d2325",
        "colab": {
          "base_uri": "https://localhost:8080/",
          "height": 370
        }
      },
      "source": [
        "model.compile(loss='binary_crossentropy',\n",
        "              optimizer=optimizers.RMSprop(lr=1e-6),\n",
        "              metrics=['acc'])\n",
        "\n",
        "history = model.fit(x=x_train, y=y_train, epochs=10, validation_data=(x_test, y_test))"
      ],
      "execution_count": 54,
      "outputs": [
        {
          "output_type": "stream",
          "text": [
            "Train on 23000 samples, validate on 2000 samples\n",
            "Epoch 1/10\n",
            "23000/23000 [==============================] - 3s 128us/step - loss: 0.6541 - acc: 0.6086 - val_loss: 0.6542 - val_acc: 0.6175\n",
            "Epoch 2/10\n",
            "23000/23000 [==============================] - 3s 110us/step - loss: 0.6540 - acc: 0.6091 - val_loss: 0.6541 - val_acc: 0.6165\n",
            "Epoch 3/10\n",
            "23000/23000 [==============================] - 3s 110us/step - loss: 0.6538 - acc: 0.6096 - val_loss: 0.6540 - val_acc: 0.6170\n",
            "Epoch 4/10\n",
            "23000/23000 [==============================] - 2s 108us/step - loss: 0.6537 - acc: 0.6097 - val_loss: 0.6539 - val_acc: 0.6160\n",
            "Epoch 5/10\n",
            "23000/23000 [==============================] - 3s 109us/step - loss: 0.6535 - acc: 0.6107 - val_loss: 0.6538 - val_acc: 0.6160\n",
            "Epoch 6/10\n",
            "23000/23000 [==============================] - 2s 108us/step - loss: 0.6534 - acc: 0.6109 - val_loss: 0.6537 - val_acc: 0.6155\n",
            "Epoch 7/10\n",
            "23000/23000 [==============================] - 3s 113us/step - loss: 0.6533 - acc: 0.6116 - val_loss: 0.6537 - val_acc: 0.6160\n",
            "Epoch 8/10\n",
            "23000/23000 [==============================] - 3s 113us/step - loss: 0.6531 - acc: 0.6113 - val_loss: 0.6536 - val_acc: 0.6150\n",
            "Epoch 9/10\n",
            "23000/23000 [==============================] - 3s 110us/step - loss: 0.6530 - acc: 0.6118 - val_loss: 0.6535 - val_acc: 0.6165\n",
            "Epoch 10/10\n",
            "23000/23000 [==============================] - 2s 108us/step - loss: 0.6529 - acc: 0.6122 - val_loss: 0.6534 - val_acc: 0.6180\n"
          ],
          "name": "stdout"
        }
      ]
    },
    {
      "cell_type": "markdown",
      "metadata": {
        "colab_type": "text",
        "id": "7hd5r7SZe-CB"
      },
      "source": [
        "# Evaluate the model"
      ]
    },
    {
      "cell_type": "code",
      "metadata": {
        "colab_type": "code",
        "id": "GhKZf-bDe-CB",
        "outputId": "f3129282-bae0-4c76-dc55-7d416b005344",
        "colab": {
          "base_uri": "https://localhost:8080/",
          "height": 50
        }
      },
      "source": [
        "test_loss, test_acc = model.evaluate(x=x_test, y=y_test)\n",
        "print('Accuracy on Validation Set:', test_acc)"
      ],
      "execution_count": 56,
      "outputs": [
        {
          "output_type": "stream",
          "text": [
            "2000/2000 [==============================] - 0s 59us/step\n",
            "Accuracy on Validation Set: 0.618\n"
          ],
          "name": "stdout"
        }
      ]
    },
    {
      "cell_type": "code",
      "metadata": {
        "colab_type": "code",
        "id": "-6WYnycGdHPB",
        "colab": {}
      },
      "source": [
        ""
      ],
      "execution_count": 0,
      "outputs": []
    }
  ]
}